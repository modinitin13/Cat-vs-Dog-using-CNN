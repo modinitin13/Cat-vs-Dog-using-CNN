{
  "nbformat": 4,
  "nbformat_minor": 0,
  "metadata": {
    "colab": {
      "name": "Cat/Dog Recognizer using CNN",
      "provenance": [],
      "collapsed_sections": [],
      "toc_visible": true,
      "include_colab_link": true
    },
    "kernelspec": {
      "name": "python3",
      "display_name": "Python 3"
    },
    "accelerator": "GPU"
  },
  "cells": [
    {
      "cell_type": "markdown",
      "metadata": {
        "id": "view-in-github",
        "colab_type": "text"
      },
      "source": [
        "<a href=\"https://colab.research.google.com/github/modinitin13/Cat-vs-Dog-using-CNN/blob/master/CatDogRecognizerUsingCNN.ipynb\" target=\"_parent\"><img src=\"https://colab.research.google.com/assets/colab-badge.svg\" alt=\"Open In Colab\"/></a>"
      ]
    },
    {
      "cell_type": "code",
      "metadata": {
        "id": "OaBZq04UhFAq",
        "colab_type": "code",
        "outputId": "0acefb35-575e-4859-e74d-719e1b954995",
        "colab": {
          "base_uri": "https://localhost:8080/",
          "height": 122
        }
      },
      "source": [
        "##command for taking data set from the drive\n",
        "from google.colab import drive\n",
        "drive.mount('/content/drive/')"
      ],
      "execution_count": 0,
      "outputs": [
        {
          "output_type": "stream",
          "text": [
            "Go to this URL in a browser: https://accounts.google.com/o/oauth2/auth?client_id=947318989803-6bn6qk8qdgf4n4g3pfee6491hc0brc4i.apps.googleusercontent.com&redirect_uri=urn%3aietf%3awg%3aoauth%3a2.0%3aoob&response_type=code&scope=email%20https%3a%2f%2fwww.googleapis.com%2fauth%2fdocs.test%20https%3a%2f%2fwww.googleapis.com%2fauth%2fdrive%20https%3a%2f%2fwww.googleapis.com%2fauth%2fdrive.photos.readonly%20https%3a%2f%2fwww.googleapis.com%2fauth%2fpeopleapi.readonly\n",
            "\n",
            "Enter your authorization code:\n",
            "··········\n",
            "Mounted at /content/drive/\n"
          ],
          "name": "stdout"
        }
      ]
    },
    {
      "cell_type": "code",
      "metadata": {
        "id": "ygY-WI8eQIP6",
        "colab_type": "code",
        "colab": {}
      },
      "source": [
        "!pip install -q keras"
      ],
      "execution_count": 0,
      "outputs": []
    },
    {
      "cell_type": "code",
      "metadata": {
        "id": "lnCDHtGFmr0p",
        "colab_type": "code",
        "colab": {}
      },
      "source": [
        "##importing the libraries\n",
        "from keras.models import Sequential\n",
        "from keras.layers import Convolution2D\n",
        "from keras.layers import MaxPooling2D\n",
        "from keras.layers import Flatten\n",
        "from keras.layers import Dense"
      ],
      "execution_count": 0,
      "outputs": []
    },
    {
      "cell_type": "code",
      "metadata": {
        "id": "4v7mZAeCnvE7",
        "colab_type": "code",
        "colab": {}
      },
      "source": [
        "##defining the model type as sequential\n",
        "Model = Sequential()\n"
      ],
      "execution_count": 0,
      "outputs": []
    },
    {
      "cell_type": "code",
      "metadata": {
        "id": "NvNagWOGoEE2",
        "colab_type": "code",
        "colab": {}
      },
      "source": [
        "##Adding the first convolution layer\n",
        "Model.add(Convolution2D(32, (3, 3), input_shape = (64, 64, 3), activation = 'relu'))"
      ],
      "execution_count": 0,
      "outputs": []
    },
    {
      "cell_type": "code",
      "metadata": {
        "id": "Cxbdh2SzqATP",
        "colab_type": "code",
        "colab": {}
      },
      "source": [
        "## Adding the maxpool layer\n",
        "Model.add(MaxPooling2D(pool_size = (2, 2),strides=2))"
      ],
      "execution_count": 0,
      "outputs": []
    },
    {
      "cell_type": "code",
      "metadata": {
        "id": "BZTUeOpVqwkZ",
        "colab_type": "code",
        "colab": {}
      },
      "source": [
        "##Flattening the output \n",
        "Model.add(Convolution2D(32, (3, 3), activation = 'relu'))"
      ],
      "execution_count": 0,
      "outputs": []
    },
    {
      "cell_type": "code",
      "metadata": {
        "id": "N0Ub7UGZXgoj",
        "colab_type": "code",
        "colab": {}
      },
      "source": [
        "Model.add(MaxPooling2D(pool_size = (2, 2),strides=2))"
      ],
      "execution_count": 0,
      "outputs": []
    },
    {
      "cell_type": "code",
      "metadata": {
        "id": "y_Lypr0yXs6O",
        "colab_type": "code",
        "colab": {}
      },
      "source": [
        "Model.add(Flatten())"
      ],
      "execution_count": 0,
      "outputs": []
    },
    {
      "cell_type": "code",
      "metadata": {
        "id": "9do57Awpq4Rb",
        "colab_type": "code",
        "colab": {}
      },
      "source": [
        "##Adding the dense layer\n",
        "##A dense layer is just a regular layer of neurons in a neural network. Each neuron recieves input from all the neurons in the previous layer, thus densely connected.\n",
        "Model.add(Dense(units = 128, activation = 'relu'))"
      ],
      "execution_count": 0,
      "outputs": []
    },
    {
      "cell_type": "code",
      "metadata": {
        "id": "o8v3v4w5rMl9",
        "colab_type": "code",
        "colab": {}
      },
      "source": [
        "##Adding the dense layer\n",
        "Model.add(Dense(units = 1, activation = 'sigmoid'))"
      ],
      "execution_count": 0,
      "outputs": []
    },
    {
      "cell_type": "code",
      "metadata": {
        "id": "wnt50x0ErqTI",
        "colab_type": "code",
        "colab": {}
      },
      "source": [
        "##Compiling the model,using the  adam's optimiser and loss as binary crossentropy\n",
        "##A metric is a function that is used to judge the performance of your model.\n",
        "Model.compile(optimizer = 'adam', loss = 'binary_crossentropy', metrics = ['accuracy'])"
      ],
      "execution_count": 0,
      "outputs": []
    },
    {
      "cell_type": "code",
      "metadata": {
        "id": "UhiF8nGasGV_",
        "colab_type": "code",
        "colab": {}
      },
      "source": [
        "##Using the ImageDataGenerator for the Data Augmentation\n",
        "from keras.preprocessing.image import ImageDataGenerator"
      ],
      "execution_count": 0,
      "outputs": []
    },
    {
      "cell_type": "code",
      "metadata": {
        "id": "AdU_OiIWsjPn",
        "colab_type": "code",
        "colab": {}
      },
      "source": [
        "train_datagen = ImageDataGenerator(rescale = 1./255,\n",
        "                                   shear_range = 0.2,\n",
        "                                   zoom_range = 0.2,\n",
        "                                   horizontal_flip = True)\n"
      ],
      "execution_count": 0,
      "outputs": []
    },
    {
      "cell_type": "code",
      "metadata": {
        "id": "n6NKUUB6sp8m",
        "colab_type": "code",
        "colab": {}
      },
      "source": [
        "test_datagen = ImageDataGenerator(rescale = 1./255)"
      ],
      "execution_count": 0,
      "outputs": []
    },
    {
      "cell_type": "code",
      "metadata": {
        "id": "aI8I6plOty0r",
        "colab_type": "code",
        "outputId": "5951ff0b-e7f4-4956-d1be-1e36f59564bf",
        "colab": {
          "base_uri": "https://localhost:8080/",
          "height": 34
        }
      },
      "source": [
        "##Generating the training Dataset\n",
        "training_set = train_datagen.flow_from_directory(\n",
        "                    '/content/drive/My Drive/Cat-Dog Dataset CNN/training_set',\n",
        "                    target_size=(64,64),\n",
        "                    batch_size=32,\n",
        "                    class_mode='binary'\n",
        ")"
      ],
      "execution_count": 0,
      "outputs": [
        {
          "output_type": "stream",
          "text": [
            "Found 7957 images belonging to 2 classes.\n"
          ],
          "name": "stdout"
        }
      ]
    },
    {
      "cell_type": "code",
      "metadata": {
        "id": "CWIYknyX2Jye",
        "colab_type": "code",
        "outputId": "755be576-5599-4378-a8c0-91ba2af43bc7",
        "colab": {
          "base_uri": "https://localhost:8080/",
          "height": 34
        }
      },
      "source": [
        "##Generating the Testset\n",
        "test_set = test_datagen.flow_from_directory(\n",
        "                    '/content/drive/My Drive/Cat-Dog Dataset CNN/test_set',\n",
        "                    target_size=(64,64),\n",
        "                    batch_size=32,\n",
        "                    class_mode='binary'\n",
        ")"
      ],
      "execution_count": 0,
      "outputs": [
        {
          "output_type": "stream",
          "text": [
            "Found 2000 images belonging to 2 classes.\n"
          ],
          "name": "stdout"
        }
      ]
    },
    {
      "cell_type": "code",
      "metadata": {
        "id": "DNHk7DmD2jBx",
        "colab_type": "code",
        "outputId": "d07c8255-6f3a-4c09-bfa1-6ef1b47c02a5",
        "colab": {
          "base_uri": "https://localhost:8080/",
          "height": 105
        }
      },
      "source": [
        "from IPython.display import display\n",
        "from PIL import Image\n",
        "##Fitting the model\n",
        "Model.fit_generator(training_set,\n",
        "                         steps_per_epoch = 8000,\n",
        "                         epochs = 3,\n",
        "                         validation_data = test_set,\n",
        "                         validation_steps = 2000)"
      ],
      "execution_count": 0,
      "outputs": [
        {
          "output_type": "stream",
          "text": [
            "Epoch 1/3\n",
            "8000/8000 [==============================] - 1260s 158ms/step - loss: 0.3395 - acc: 0.8427 - val_loss: 0.6053 - val_acc: 0.8026\n",
            "Epoch 2/3\n",
            "3985/8000 [=============>................] - ETA: 9:03 - loss: 0.1100 - acc: 0.9588"
          ],
          "name": "stdout"
        }
      ]
    },
    {
      "cell_type": "markdown",
      "metadata": {
        "id": "SaXK32ickf2Z",
        "colab_type": "text"
      },
      "source": [
        "# New Section"
      ]
    },
    {
      "cell_type": "code",
      "metadata": {
        "id": "7KZCTFSN4pS6",
        "colab_type": "code",
        "colab": {}
      },
      "source": [
        "import numpy as np"
      ],
      "execution_count": 0,
      "outputs": []
    },
    {
      "cell_type": "code",
      "metadata": {
        "id": "uZxTbdov5AYX",
        "colab_type": "code",
        "outputId": "08e05b57-72c0-4be6-97fc-9146a014d790",
        "colab": {
          "base_uri": "https://localhost:8080/",
          "height": 34
        }
      },
      "source": [
        "##Now checking for a image wheter the output is Cat/Dog\n",
        "from keras.preprocessing import image\n",
        "test_image=image.load_img('/content/drive/My Drive/dog1.jpg',target_size=(64,64))\n",
        "test_image=image.img_to_array(test_image)\n",
        "test_image=np.expand_dims(test_image,axis=0)\n",
        "result=Model.predict(test_image)\n",
        "training_set.class_indices\n",
        "if result[0][0]>=0.5 :\n",
        "  prediction='dog'\n",
        "else :\n",
        "  prediction='cat'\n",
        "print(prediction)"
      ],
      "execution_count": 0,
      "outputs": [
        {
          "output_type": "stream",
          "text": [
            "cat\n"
          ],
          "name": "stdout"
        }
      ]
    },
    {
      "cell_type": "markdown",
      "metadata": {
        "id": "b6fcNME6LoJ7",
        "colab_type": "text"
      },
      "source": [
        "# New Section"
      ]
    },
    {
      "cell_type": "code",
      "metadata": {
        "id": "XvGMp7S0KPXS",
        "colab_type": "code",
        "colab": {}
      },
      "source": [
        ""
      ],
      "execution_count": 0,
      "outputs": []
    }
  ]
}